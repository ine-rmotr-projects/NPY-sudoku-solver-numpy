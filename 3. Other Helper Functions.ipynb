{
 "cells": [
  {
   "cell_type": "markdown",
   "metadata": {},
   "source": [
    "# Numpy Project - Part 3: Other helper functions\n",
    "\n",
    "In our quest to find the final solution for our sudoku, we'll finish writing a few important functions that will make the solving algorithm a lot simpler. It might not make a ton of sense now, but hopefully it'll be clear once we get to the point of finding the solution."
   ]
  },
  {
   "cell_type": "code",
   "execution_count": 22,
   "metadata": {},
   "outputs": [],
   "source": [
    "import numpy as np\n",
    "from sudoku import Board"
   ]
  },
  {
   "cell_type": "markdown",
   "metadata": {},
   "source": [
    "As we've done so far, this is the sudoku we're working with:\n",
    "\n",
    "<img src=\"https://user-images.githubusercontent.com/872296/68136001-49d21400-ff03-11e9-8750-acb846e23046.png\" width=\"600px\">"
   ]
  },
  {
   "cell_type": "code",
   "execution_count": 23,
   "metadata": {},
   "outputs": [],
   "source": [
    "puzzle = Board(np.array([\n",
    "    [0, 2, 0, 0, 8, 0, 0, 5, 0],\n",
    "    [4, 0, 0, 0, 0, 6, 8, 0, 0],\n",
    "    [6, 0, 0, 4, 5, 3, 9, 7, 0],\n",
    "    [0, 0, 0, 0, 0, 2, 0, 9, 0],\n",
    "    [0, 0, 4, 0, 0, 0, 6, 0, 0],\n",
    "    [0, 1, 0, 3, 0, 0, 0, 0, 0],\n",
    "    [0, 5, 7, 1, 3, 4, 0, 0, 9],\n",
    "    [0, 0, 9, 6, 0, 0, 0, 0, 5],\n",
    "    [0, 3, 0, 0, 2, 0, 0, 8, 0]]))"
   ]
  },
  {
   "cell_type": "markdown",
   "metadata": {},
   "source": [
    "### 1) Find empty squares\n",
    "\n",
    "First we are going to need a function that will tell us where the empty squares are within our board. \n",
    "\n",
    "We'll write a function `find_empty` that receives a game board instance and returns the position of all the empty cells in the board.\n",
    "\n",
    "If there are no empty cells on the board, the function will return `None`."
   ]
  },
  {
   "cell_type": "code",
   "execution_count": 24,
   "metadata": {},
   "outputs": [
    {
     "data": {
      "text/plain": [
       "array([[0, 0],\n",
       "       [0, 2],\n",
       "       [0, 3],\n",
       "       [0, 5],\n",
       "       [0, 6],\n",
       "       [0, 8],\n",
       "       [1, 1],\n",
       "       [1, 2],\n",
       "       [1, 3],\n",
       "       [1, 4],\n",
       "       [1, 7],\n",
       "       [1, 8],\n",
       "       [2, 1],\n",
       "       [2, 2],\n",
       "       [2, 8],\n",
       "       [3, 0],\n",
       "       [3, 1],\n",
       "       [3, 2],\n",
       "       [3, 3],\n",
       "       [3, 4],\n",
       "       [3, 6],\n",
       "       [3, 8],\n",
       "       [4, 0],\n",
       "       [4, 1],\n",
       "       [4, 3],\n",
       "       [4, 4],\n",
       "       [4, 5],\n",
       "       [4, 7],\n",
       "       [4, 8],\n",
       "       [5, 0],\n",
       "       [5, 2],\n",
       "       [5, 4],\n",
       "       [5, 5],\n",
       "       [5, 6],\n",
       "       [5, 7],\n",
       "       [5, 8],\n",
       "       [6, 0],\n",
       "       [6, 6],\n",
       "       [6, 7],\n",
       "       [7, 0],\n",
       "       [7, 1],\n",
       "       [7, 4],\n",
       "       [7, 5],\n",
       "       [7, 6],\n",
       "       [7, 7],\n",
       "       [8, 0],\n",
       "       [8, 2],\n",
       "       [8, 3],\n",
       "       [8, 5],\n",
       "       [8, 6],\n",
       "       [8, 8]])"
      ]
     },
     "execution_count": 24,
     "metadata": {},
     "output_type": "execute_result"
    }
   ],
   "source": [
    "def find_empty(board):\n",
    "    arr = board.arr\n",
    "    if((arr == 0).all()):\n",
    "        return None\n",
    "    lst = []\n",
    "    for i in range(0,9):\n",
    "        for j in range(0,9):\n",
    "            if arr[i, j] == 0:\n",
    "                lst.append(np.array([i,j]))\n",
    "    return np.array(lst)\n",
    "\n",
    "find_empty(puzzle)"
   ]
  },
  {
   "cell_type": "markdown",
   "metadata": {},
   "source": [
    "For example, the first empty positions should look like:"
   ]
  },
  {
   "cell_type": "code",
   "execution_count": 25,
   "metadata": {},
   "outputs": [
    {
     "data": {
      "text/plain": [
       "array([[0, 0],\n",
       "       [0, 2],\n",
       "       [0, 3],\n",
       "       [0, 5],\n",
       "       [0, 6]])"
      ]
     },
     "execution_count": 25,
     "metadata": {},
     "output_type": "execute_result"
    }
   ],
   "source": [
    "find_empty(puzzle)[:5, :5]"
   ]
  },
  {
   "cell_type": "code",
   "execution_count": 26,
   "metadata": {},
   "outputs": [],
   "source": [
    "assert np.array_equal(find_empty(puzzle)[:7, :7], np.array([\n",
    "    [0, 0],\n",
    "    [0, 2],\n",
    "    [0, 3],\n",
    "    [0, 5],\n",
    "    [0, 6],\n",
    "    [0, 8],\n",
    "    [1, 1]]))"
   ]
  },
  {
   "cell_type": "markdown",
   "metadata": {},
   "source": [
    "### 2) Is full\n",
    "\n",
    "This function just returns `True` if all the cells are full. `False` if there are any `0s`."
   ]
  },
  {
   "cell_type": "code",
   "execution_count": 27,
   "metadata": {},
   "outputs": [],
   "source": [
    "def is_full(board):\n",
    "    arr = board.arr\n",
    "    if (arr == 0).any():\n",
    "        return False\n",
    "    else:\n",
    "        return True"
   ]
  },
  {
   "cell_type": "code",
   "execution_count": 28,
   "metadata": {},
   "outputs": [],
   "source": [
    "assert is_full(puzzle) is False"
   ]
  },
  {
   "cell_type": "code",
   "execution_count": 61,
   "metadata": {},
   "outputs": [
    {
     "name": "stdout",
     "output_type": "stream",
     "text": [
      "[0 0 0 0 0 0 5 6 9]\n",
      "[0 0 0 0 0 5 7 8 9]\n",
      "2 2\n",
      "1\n",
      "2\n",
      "3\n",
      "4\n"
     ]
    }
   ],
   "source": [
    "temp = puzzle.arr\n",
    "\n",
    "row = puzzle.get_row(7)\n",
    "col = puzzle.get_column(7)\n",
    "\n",
    "def block_pos(cellno):\n",
    "    if cellno <3:\n",
    "        return 0\n",
    "    elif 3<=cellno<6:\n",
    "        return 1\n",
    "    else:\n",
    "        return 2\n",
    "\n",
    "pos_1 = block_pos(7)\n",
    "pos_2 = block_pos(7)\n",
    "bo = puzzle.get_block(pos_1,pos_2)\n",
    "print(np.sort(row))\n",
    "print(np.sort(col))\n",
    "print(pos_1, pos_2)\n",
    "\n",
    "for x in range(1,10):\n",
    "    if (x not in row) & (x not in col) & (x not in bo.flatten()):\n",
    "        print(x)"
   ]
  },
  {
   "cell_type": "markdown",
   "metadata": {},
   "source": [
    "### 3) Find possibilities\n",
    "\n",
    "We need to write now a function that will find, for a given cell, all the possible values. For example, for the cell in position `2, 1` the only possible value is `8`, try it yourself:\n",
    "\n",
    "![sudoku-pos1](https://user-images.githubusercontent.com/872296/68609582-70102a80-0494-11ea-8335-95373f66563f.png)"
   ]
  },
  {
   "cell_type": "markdown",
   "metadata": {},
   "source": [
    "For `2, 2`, the only possible values are `1` and `8`. Complete the function `find_possibilities` that receives a `Board` and the position of a cell and returns all the valid possible values for that cell:"
   ]
  },
  {
   "cell_type": "code",
   "execution_count": 76,
   "metadata": {},
   "outputs": [
    {
     "name": "stdout",
     "output_type": "stream",
     "text": [
      "[[0 2 0 0 8 0 0 5 0]\n",
      " [4 0 0 0 0 6 8 0 0]\n",
      " [6 0 0 4 5 3 9 7 0]\n",
      " [0 0 0 0 0 2 0 9 0]\n",
      " [0 0 4 0 0 0 6 0 0]\n",
      " [0 1 0 3 0 0 0 0 0]\n",
      " [0 5 7 1 3 4 0 0 9]\n",
      " [0 0 9 6 0 0 0 0 5]\n",
      " [0 3 0 0 2 0 0 8 0]]\n",
      "[6 4 5 3 9 7]\n",
      "[2 1 5 3]\n",
      "0 0\n",
      "[2 4 6]\n"
     ]
    },
    {
     "data": {
      "text/plain": [
       "array([8])"
      ]
     },
     "execution_count": 76,
     "metadata": {},
     "output_type": "execute_result"
    }
   ],
   "source": [
    "def find_possibilities(board, x, y):\n",
    "    arr = board.arr\n",
    "    print(arr)\n",
    "    row = board.get_row(x)\n",
    "    row_vals = row[row>0]\n",
    "    print(row_vals)\n",
    "    \n",
    "    col = board.get_column(y)\n",
    "    col_vals = col[col>0]\n",
    "    print(col_vals)\n",
    "    \n",
    "    pos_1 = block_pos(x)\n",
    "    pos_2 = block_pos(y)\n",
    "    block = board.get_block(pos_1,pos_2)\n",
    "    clean_block = block[block>0]\n",
    "    print(pos_1, pos_2)\n",
    "    print(clean_block)\n",
    "    possible_nos = [i for i in range(1,10) if (i not in row_vals) & (i not in col_vals) & (i not in clean_block)] \n",
    "    return np.array(possible_nos)\n",
    "\n",
    "def block_pos(cellno):\n",
    "    if cellno <3:\n",
    "        return 0\n",
    "    elif 3<=cellno<6:\n",
    "        return 1\n",
    "    else:\n",
    "        return 2\n",
    "\n",
    "find_possibilities(puzzle,2,1)"
   ]
  },
  {
   "cell_type": "code",
   "execution_count": 71,
   "metadata": {},
   "outputs": [
    {
     "name": "stdout",
     "output_type": "stream",
     "text": [
      "[[0 2 0 0 8 0 0 5 0]\n",
      " [4 0 0 0 0 6 8 0 0]\n",
      " [6 0 0 4 5 3 9 7 0]\n",
      " [0 0 0 0 0 2 0 9 0]\n",
      " [0 0 4 0 0 0 6 0 0]\n",
      " [0 1 0 3 0 0 0 0 0]\n",
      " [0 5 7 1 3 4 0 0 9]\n",
      " [0 0 9 6 0 0 0 0 5]\n",
      " [0 3 0 0 2 0 0 8 0]]\n",
      "[6 4 5 3 9 7]\n",
      "[2 1 5 3]\n",
      "0 0\n",
      "[[0 2 0]\n",
      " [4 0 0]\n",
      " [6 0 0]]\n"
     ]
    }
   ],
   "source": [
    "assert set(find_possibilities(puzzle, 2, 1)) == set(np.array([8]))"
   ]
  },
  {
   "cell_type": "code",
   "execution_count": 72,
   "metadata": {},
   "outputs": [
    {
     "name": "stdout",
     "output_type": "stream",
     "text": [
      "[[0 2 0 0 8 0 0 5 0]\n",
      " [4 0 0 0 0 6 8 0 0]\n",
      " [6 0 0 4 5 3 9 7 0]\n",
      " [0 0 0 0 0 2 0 9 0]\n",
      " [0 0 4 0 0 0 6 0 0]\n",
      " [0 1 0 3 0 0 0 0 0]\n",
      " [0 5 7 1 3 4 0 0 9]\n",
      " [0 0 9 6 0 0 0 0 5]\n",
      " [0 3 0 0 2 0 0 8 0]]\n",
      "[6 4 5 3 9 7]\n",
      "[4 7 9]\n",
      "0 0\n",
      "[[0 2 0]\n",
      " [4 0 0]\n",
      " [6 0 0]]\n"
     ]
    }
   ],
   "source": [
    "assert set(find_possibilities(puzzle, 2, 2)) == set(np.array([1, 8]))"
   ]
  },
  {
   "cell_type": "code",
   "execution_count": 73,
   "metadata": {},
   "outputs": [
    {
     "name": "stdout",
     "output_type": "stream",
     "text": [
      "[[0 2 0 0 8 0 0 5 0]\n",
      " [4 0 0 0 0 6 8 0 0]\n",
      " [6 0 0 4 5 3 9 7 0]\n",
      " [0 0 0 0 0 2 0 9 0]\n",
      " [0 0 4 0 0 0 6 0 0]\n",
      " [0 1 0 3 0 0 0 0 0]\n",
      " [0 5 7 1 3 4 0 0 9]\n",
      " [0 0 9 6 0 0 0 0 5]\n",
      " [0 3 0 0 2 0 0 8 0]]\n",
      "[2 8 5]\n",
      "[4 6]\n",
      "0 0\n",
      "[[0 2 0]\n",
      " [4 0 0]\n",
      " [6 0 0]]\n"
     ]
    }
   ],
   "source": [
    "assert set(find_possibilities(puzzle, 0, 0)) == set(np.array([1, 3, 7 ,9]))"
   ]
  },
  {
   "cell_type": "markdown",
   "metadata": {},
   "source": [
    "## Time to test!\n",
    "\n",
    "Now it's time to move your code to `sudoku.py` and then run all the tests; if they're passing, you can move to the next step!"
   ]
  },
  {
   "cell_type": "code",
   "execution_count": 77,
   "metadata": {},
   "outputs": [
    {
     "name": "stdout",
     "output_type": "stream",
     "text": [
      "\u001b[1m============================= test session starts ==============================\u001b[0m\n",
      "platform darwin -- Python 3.6.10, pytest-5.2.2, py-1.8.1, pluggy-0.13.1\n",
      "rootdir: /Users/neha/DS Projects/RMOTR Projects/NPY-sudoku-solver-numpy-master\n",
      "collected 3 items                                                              \u001b[0m\u001b[1m\n",
      "\n",
      "test_part_3.py \u001b[32m.\u001b[0m\u001b[32m.\u001b[0m\u001b[32m.\u001b[0m\u001b[36m                                                       [100%]\u001b[0m\n",
      "\n",
      "\u001b[32m\u001b[1m============================== 3 passed in 0.75s ===============================\u001b[0m\n"
     ]
    }
   ],
   "source": [
    "!py.test test_part_3.py"
   ]
  },
  {
   "cell_type": "code",
   "execution_count": null,
   "metadata": {},
   "outputs": [],
   "source": []
  }
 ],
 "metadata": {
  "kernelspec": {
   "display_name": "Python 3",
   "language": "python",
   "name": "python3"
  },
  "language_info": {
   "codemirror_mode": {
    "name": "ipython",
    "version": 3
   },
   "file_extension": ".py",
   "mimetype": "text/x-python",
   "name": "python",
   "nbconvert_exporter": "python",
   "pygments_lexer": "ipython3",
   "version": "3.6.10"
  }
 },
 "nbformat": 4,
 "nbformat_minor": 4
}
