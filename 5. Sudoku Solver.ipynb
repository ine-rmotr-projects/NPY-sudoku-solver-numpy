{
 "cells": [
  {
   "cell_type": "markdown",
   "metadata": {},
   "source": [
    "# Numpy Project - Part 5: Sudoku Solver\n",
    "\n",
    "Now it's time to finally write the sudoku solver! The algorithm we'll use is known as the [\"backtracking\" algorithm](https://en.wikipedia.org/wiki/Sudoku_solving_algorithms#Backtracking), and it's the simplest one.\n",
    "\n",
    "**NOTE: This final part is optional; we're not testing your algorithmic skills (although it'd be nice to make this work right?)**\n",
    "\n",
    "The backtracking algorithm works by brute-force testing ALL the possible solutions on a Sudoku Board. Let's analyze it step by step, given the following board (with red characters showing the possible numbers in the first 4 empty cells):\n",
    "\n",
    "<img width=\"600px\" src=\"https://user-images.githubusercontent.com/872296/68680970-51b43880-0541-11ea-9573-cea7cc1ed4a1.png\">\n"
   ]
  },
  {
   "cell_type": "markdown",
   "metadata": {},
   "source": [
    "The algorithm will iterate over all the empty cells and check what are the possible values for it. If there are multiple possible values, it'll try ALL the possibilities in order. So for our previous example:\n",
    "\n",
    "The algorithm starts in the cell in `(0, 0)`, out of all the possibilities, it picks the first one (`1`) and places it. Then moves to the second empty cell `(0, 2)`, now that we have a number `1` in `(0, 0)`, the only possibility is place the number `3`. Then it moves to the third cell `(0, 3)`, and there are two possibilities (`7` & `9`). It'll pick the first one, `7`, and place it. Then moves to the 4th empty cell `(0, 5)` and now the only possible value is `9` (`1` was  already placed in `(0, 0)` and `7` in `(0, 3)`.\n",
    "\n",
    "This is just **THE FIRST iteration**, but here is how it'd look like:\n",
    "\n",
    "<img width=\"600px\" src=\"https://user-images.githubusercontent.com/872296/68681743-b3c16d80-0542-11ea-953e-2fc769a1ed5e.png\">\n",
    "\n",
    "\n",
    "#### Backtracking\n",
    "\n",
    "Following our previous example, at some point we might notice that our board is invalid; that's because we just picked some possibilities \"randomly\". We place the number `1` in `(0, 0)` without being completely sure it was ok. If that's the case, we'll need to stop and start going backwards changing our values and trying others out. In our previous example, we might reach the end of the board and realize everything is wrong, because that `1` in `(0, 0)` was invalid in the first place; so we'll need to clear all the board, moving backwards and try the next possibility for `(0, 0)`.\n",
    "\n",
    "**Note: This is a recursive algorithm. If you don't remember about recursion, please go back to our Functional Programming course**."
   ]
  },
  {
   "cell_type": "markdown",
   "metadata": {},
   "source": [
    "### The actual solver algorithm\n",
    "\n",
    "Now it's time to complete the `solve_sudoku` function. It receives only one parameter, a `Board` and solves the sudoku contained in that `Board`:"
   ]
  },
  {
   "cell_type": "code",
   "execution_count": 1,
   "metadata": {},
   "outputs": [],
   "source": [
    "import numpy as np\n",
    "from sudoku import Board, find_possibilities, is_full, is_valid, find_empty"
   ]
  },
  {
   "cell_type": "markdown",
   "metadata": {},
   "source": [
    "As usual, we create our board (same as the picture above):"
   ]
  },
  {
   "cell_type": "code",
   "execution_count": 2,
   "metadata": {},
   "outputs": [],
   "source": [
    "puzzle = Board(np.array([\n",
    "    [0, 2, 0, 0, 8, 0, 0, 5, 0],\n",
    "    [4, 0, 0, 0, 0, 6, 8, 0, 0],\n",
    "    [6, 0, 0, 4, 5, 3, 9, 7, 0],\n",
    "    [0, 0, 0, 0, 0, 2, 0, 9, 0],\n",
    "    [0, 0, 4, 0, 0, 0, 6, 0, 0],\n",
    "    [0, 1, 0, 3, 0, 0, 0, 0, 0],\n",
    "    [0, 5, 7, 1, 3, 4, 0, 0, 9],\n",
    "    [0, 0, 9, 6, 0, 0, 0, 0, 5],\n",
    "    [0, 3, 0, 0, 2, 0, 0, 8, 0]]))"
   ]
  },
  {
   "cell_type": "markdown",
   "metadata": {},
   "source": [
    "and we've already worked out the solution for it:"
   ]
  },
  {
   "cell_type": "code",
   "execution_count": 3,
   "metadata": {},
   "outputs": [],
   "source": [
    "solved = Board(np.array([\n",
    "    [9, 2, 3, 7, 8, 1, 4, 5, 6],\n",
    "    [4, 7, 5, 2, 9, 6, 8, 3, 1],\n",
    "    [6, 8, 1, 4, 5, 3, 9, 7, 2],\n",
    "    [3, 6, 8, 5, 4, 2, 1, 9, 7],\n",
    "    [5, 9, 4, 8, 1, 7, 6, 2, 3],\n",
    "    [7, 1, 2, 3, 6, 9, 5, 4, 8],\n",
    "    [8, 5, 7, 1, 3, 4, 2, 6, 9],\n",
    "    [2, 4, 9, 6, 7, 8, 3, 1, 5],\n",
    "    [1, 3, 6, 9, 2, 5, 7, 8, 4]\n",
    "]))"
   ]
  },
  {
   "cell_type": "markdown",
   "metadata": {},
   "source": [
    "Now it's time! Write the `solve_sudoku` function, remember the Backtracking algorithm. The functions we've written throughout this project will be useful (`find_empty`, `find_possibilities`, etc)."
   ]
  },
  {
   "cell_type": "code",
   "execution_count": 4,
   "metadata": {},
   "outputs": [],
   "source": [
    "def solve_sudoku(board):\n",
    "    if is_full(board):\n",
    "        return True\n",
    "    else:\n",
    "        empty_rows = find_empty(board)\n",
    "        for position in empty_rows:\n",
    "            for num in range(1,10):\n",
    "                 if num in find_possibilities(board,position[0],position[1]):\n",
    "                        board.arr[position[0]][position[1]] = num\n",
    "                        if solve_sudoku(board):\n",
    "                            return True\n",
    "                        else:\n",
    "                            board.arr[position[0]][position[1]] = 0\n",
    "                        \n",
    "            return False"
   ]
  },
  {
   "cell_type": "code",
   "execution_count": 5,
   "metadata": {},
   "outputs": [
    {
     "data": {
      "text/plain": [
       "True"
      ]
     },
     "execution_count": 5,
     "metadata": {},
     "output_type": "execute_result"
    }
   ],
   "source": [
    "solve_sudoku(puzzle)"
   ]
  },
  {
   "cell_type": "markdown",
   "metadata": {},
   "source": [
    "Expected:"
   ]
  },
  {
   "cell_type": "code",
   "execution_count": 6,
   "metadata": {},
   "outputs": [
    {
     "data": {
      "text/plain": [
       "array([[9, 2, 3, 7, 8, 1, 4, 5, 6],\n",
       "       [4, 7, 5, 2, 9, 6, 8, 3, 1],\n",
       "       [6, 8, 1, 4, 5, 3, 9, 7, 2],\n",
       "       [3, 6, 8, 5, 4, 2, 1, 9, 7],\n",
       "       [5, 9, 4, 8, 1, 7, 6, 2, 3],\n",
       "       [7, 1, 2, 3, 6, 9, 5, 4, 8],\n",
       "       [8, 5, 7, 1, 3, 4, 2, 6, 9],\n",
       "       [2, 4, 9, 6, 7, 8, 3, 1, 5],\n",
       "       [1, 3, 6, 9, 2, 5, 7, 8, 4]])"
      ]
     },
     "execution_count": 6,
     "metadata": {},
     "output_type": "execute_result"
    }
   ],
   "source": [
    "puzzle.arr"
   ]
  },
  {
   "cell_type": "code",
   "execution_count": 28,
   "metadata": {},
   "outputs": [],
   "source": [
    "assert np.array_equal(puzzle.arr, solved.arr)"
   ]
  }
 ],
 "metadata": {
  "kernelspec": {
   "display_name": "Python 3",
   "language": "python",
   "name": "python3"
  },
  "language_info": {
   "codemirror_mode": {
    "name": "ipython",
    "version": 3
   },
   "file_extension": ".py",
   "mimetype": "text/x-python",
   "name": "python",
   "nbconvert_exporter": "python",
   "pygments_lexer": "ipython3",
   "version": "3.7.3"
  }
 },
 "nbformat": 4,
 "nbformat_minor": 4
}
