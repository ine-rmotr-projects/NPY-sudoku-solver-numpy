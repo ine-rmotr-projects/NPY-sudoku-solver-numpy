{
 "cells": [
  {
   "cell_type": "markdown",
   "metadata": {},
   "source": [
    "# Numpy Project - Part 4: 3D Sudokus! Increasing dimensions.\n",
    "\n",
    "Now it's time to increase the number of dimensions of our arrays. We'll use a public [Kaggle Dataset](https://www.kaggle.com/bryanpark/sudoku) that contains 1 million Sudoku games!\n",
    "\n",
    "We've reduced the total dataset to 5000 games for simplicity, but it'll still be fun. Let's get started"
   ]
  },
  {
   "cell_type": "code",
   "execution_count": 11,
   "metadata": {},
   "outputs": [],
   "source": [
    "import numpy as np"
   ]
  },
  {
   "cell_type": "markdown",
   "metadata": {},
   "source": [
    "First let's take a look at the structure of the CSV file:"
   ]
  },
  {
   "cell_type": "code",
   "execution_count": 1,
   "metadata": {},
   "outputs": [
    {
     "name": "stdout",
     "output_type": "stream",
     "text": [
      "quizzes,solutions\n",
      "004300209005009001070060043006002087190007400050083000600000105003508690042910300,864371259325849761971265843436192587198657432257483916689734125713528694542916378\n",
      "040100050107003960520008000000000017000906800803050620090060543600080700250097100,346179258187523964529648371965832417472916835813754629798261543631485792254397186\n",
      "600120384008459072000006005000264030070080006940003000310000050089700000502000190,695127384138459672724836915851264739273981546946573821317692458489715263562348197\n",
      "497200000100400005000016098620300040300900000001072600002005870000600004530097061,497258316186439725253716498629381547375964182841572639962145873718623954534897261\n",
      "005910308009403060027500100030000201000820007006007004000080000640150700890000420,465912378189473562327568149738645291954821637216397854573284916642159783891736425\n",
      "100005007380900000600000480820001075040760020069002001005039004000020100000046352,194685237382974516657213489823491675541768923769352841215839764436527198978146352\n",
      "009065430007000800600108020003090002501403960804000100030509007056080000070240090,289765431317924856645138729763891542521473968894652173432519687956387214178246395\n",
      "000000657702400100350006000500020009210300500047109008008760090900502030030018206,894231657762495183351876942583624719219387564647159328128763495976542831435918276\n",
      "503070190000006750047190600400038000950200300000010072000804001300001860086720005,563472198219386754847195623472638519951247386638519472795864231324951867186723945\n"
     ]
    }
   ],
   "source": [
    "!head data/sudoku-small.csv"
   ]
  },
  {
   "cell_type": "code",
   "execution_count": 2,
   "metadata": {},
   "outputs": [
    {
     "name": "stdout",
     "output_type": "stream",
     "text": [
      "    5000 data/sudoku-small.csv\n"
     ]
    }
   ],
   "source": [
    "!wc -l data/sudoku-small.csv"
   ]
  },
  {
   "cell_type": "markdown",
   "metadata": {},
   "source": [
    "As you can see, it's a very simple CSV containing only 2 columns, the empty board, and the solution. The way the board is expressed is different though; in this case it's just a long string containing all the numbers."
   ]
  },
  {
   "cell_type": "markdown",
   "metadata": {},
   "source": [
    "### 1) Parsing long string lines into valid boards\n",
    "\n",
    "We need to adapt to this new style of expressing Sudoku boards. This is a valuable lesson in data handling: you can't anticipate all the different ways that there will be to express data. It'd be a mistake to extend the `Board` class also including this way of expressing puzzles; we try not to modify our core data structures adding edge cases; instead, we'll write an _\"adapter\"_ (see [Wikipedia's article about the Software Pattern](https://en.wikipedia.org/wiki/Adapter_pattern)), which is just a tiny function that will turn the long puzzle line into a numpy array:"
   ]
  },
  {
   "cell_type": "code",
   "execution_count": 3,
   "metadata": {},
   "outputs": [],
   "source": [
    "def adapt_long_sudoku_line_to_array(line):\n",
    "    return np.array(list(line),dtype=int).reshape((9,9))"
   ]
  },
  {
   "cell_type": "code",
   "execution_count": 31,
   "metadata": {},
   "outputs": [
    {
     "data": {
      "text/plain": [
       "array([[0, 0, 4, 3, 0, 0, 2, 0, 9],\n",
       "       [0, 0, 5, 0, 0, 9, 0, 0, 1],\n",
       "       [0, 7, 0, 0, 6, 0, 0, 4, 3],\n",
       "       [0, 0, 6, 0, 0, 2, 0, 8, 7],\n",
       "       [1, 9, 0, 0, 0, 7, 4, 0, 0],\n",
       "       [0, 5, 0, 0, 8, 3, 0, 0, 0],\n",
       "       [6, 0, 0, 0, 0, 0, 1, 0, 5],\n",
       "       [0, 0, 3, 5, 0, 8, 6, 9, 0],\n",
       "       [0, 4, 2, 9, 1, 0, 3, 0, 0]])"
      ]
     },
     "execution_count": 31,
     "metadata": {},
     "output_type": "execute_result"
    }
   ],
   "source": [
    "adapt_long_sudoku_line_to_array('004300209005009001070060043006002087190007400050083000600000105003508690042910300')"
   ]
  },
  {
   "cell_type": "code",
   "execution_count": 32,
   "metadata": {},
   "outputs": [],
   "source": [
    "line = '004300209005009001070060043006002087190007400050083000600000105003508690042910300'"
   ]
  },
  {
   "cell_type": "code",
   "execution_count": 35,
   "metadata": {},
   "outputs": [],
   "source": [
    "assert np.array_equal(adapt_long_sudoku_line_to_array(line), np.array([\n",
    "    [0, 0, 4, 3, 0, 0, 2, 0, 9],\n",
    "    [0, 0, 5, 0, 0, 9, 0, 0, 1],\n",
    "    [0, 7, 0, 0, 6, 0, 0, 4, 3],\n",
    "    [0, 0, 6, 0, 0, 2, 0, 8, 7],\n",
    "    [1, 9, 0, 0, 0, 7, 4, 0, 0],\n",
    "    [0, 5, 0, 0, 8, 3, 0, 0, 0],\n",
    "    [6, 0, 0, 0, 0, 0, 1, 0, 5],\n",
    "    [0, 0, 3, 5, 0, 8, 6, 9, 0],\n",
    "    [0, 4, 2, 9, 1, 0, 3, 0, 0]\n",
    "]))"
   ]
  },
  {
   "cell_type": "markdown",
   "metadata": {},
   "source": [
    "### 2) Reading a CSV file into a 3-dimensional array\n",
    "\n",
    "Now it's time to read multiple sudoku puzzles into a single Numpy array. We'll end up with a 3-dimensional array, the first 2 dimensions (x, y) are the ones of a puzzle, and the 3rd dimension (z) is for multiple puzzles. Here's a graphical representation of it:\n",
    "\n",
    "<img width=\"600px\" src=\"https://user-images.githubusercontent.com/872296/68670705-499dce00-052c-11ea-8e82-18a1f435e274.png\">\n"
   ]
  },
  {
   "cell_type": "markdown",
   "metadata": {},
   "source": [
    "For example, we want to create something like this:"
   ]
  },
  {
   "cell_type": "code",
   "execution_count": 36,
   "metadata": {},
   "outputs": [
    {
     "data": {
      "text/plain": [
       "array([[[0, 0, 4, 3, 0, 0, 2, 0, 9],\n",
       "        [0, 0, 5, 0, 0, 9, 0, 0, 1],\n",
       "        [0, 7, 0, 0, 6, 0, 0, 4, 3],\n",
       "        [0, 0, 6, 0, 0, 2, 0, 8, 7],\n",
       "        [1, 9, 0, 0, 0, 7, 4, 0, 0],\n",
       "        [0, 5, 0, 0, 8, 3, 0, 0, 0],\n",
       "        [6, 0, 0, 0, 0, 0, 1, 0, 5],\n",
       "        [0, 0, 3, 5, 0, 8, 6, 9, 0],\n",
       "        [0, 4, 2, 9, 1, 0, 3, 0, 0]],\n",
       "\n",
       "       [[0, 0, 4, 3, 0, 0, 2, 0, 9],\n",
       "        [0, 0, 5, 0, 0, 9, 0, 0, 1],\n",
       "        [0, 7, 0, 0, 6, 0, 0, 4, 3],\n",
       "        [0, 0, 6, 0, 0, 2, 0, 8, 7],\n",
       "        [1, 9, 0, 0, 0, 7, 4, 0, 0],\n",
       "        [0, 5, 0, 0, 8, 3, 0, 0, 0],\n",
       "        [6, 0, 0, 0, 0, 0, 1, 0, 5],\n",
       "        [0, 0, 3, 5, 0, 8, 6, 9, 0],\n",
       "        [0, 4, 2, 9, 1, 0, 3, 0, 0]],\n",
       "\n",
       "       [[0, 0, 4, 3, 0, 0, 2, 0, 9],\n",
       "        [0, 0, 5, 0, 0, 9, 0, 0, 1],\n",
       "        [0, 7, 0, 0, 6, 0, 0, 4, 3],\n",
       "        [0, 0, 6, 0, 0, 2, 0, 8, 7],\n",
       "        [1, 9, 0, 0, 0, 7, 4, 0, 0],\n",
       "        [0, 5, 0, 0, 8, 3, 0, 0, 0],\n",
       "        [6, 0, 0, 0, 0, 0, 1, 0, 5],\n",
       "        [0, 0, 3, 5, 0, 8, 6, 9, 0],\n",
       "        [0, 4, 2, 9, 1, 0, 3, 0, 0]]])"
      ]
     },
     "execution_count": 36,
     "metadata": {},
     "output_type": "execute_result"
    }
   ],
   "source": [
    "np.array([\n",
    "    [\n",
    "        [0, 0, 4, 3, 0, 0, 2, 0, 9],\n",
    "        [0, 0, 5, 0, 0, 9, 0, 0, 1],\n",
    "        [0, 7, 0, 0, 6, 0, 0, 4, 3],\n",
    "        [0, 0, 6, 0, 0, 2, 0, 8, 7],\n",
    "        [1, 9, 0, 0, 0, 7, 4, 0, 0],\n",
    "        [0, 5, 0, 0, 8, 3, 0, 0, 0],\n",
    "        [6, 0, 0, 0, 0, 0, 1, 0, 5],\n",
    "        [0, 0, 3, 5, 0, 8, 6, 9, 0],\n",
    "        [0, 4, 2, 9, 1, 0, 3, 0, 0]\n",
    "    ],\n",
    "    [\n",
    "        [0, 0, 4, 3, 0, 0, 2, 0, 9],\n",
    "        [0, 0, 5, 0, 0, 9, 0, 0, 1],\n",
    "        [0, 7, 0, 0, 6, 0, 0, 4, 3],\n",
    "        [0, 0, 6, 0, 0, 2, 0, 8, 7],\n",
    "        [1, 9, 0, 0, 0, 7, 4, 0, 0],\n",
    "        [0, 5, 0, 0, 8, 3, 0, 0, 0],\n",
    "        [6, 0, 0, 0, 0, 0, 1, 0, 5],\n",
    "        [0, 0, 3, 5, 0, 8, 6, 9, 0],\n",
    "        [0, 4, 2, 9, 1, 0, 3, 0, 0]\n",
    "    ],\n",
    "    [\n",
    "        [0, 0, 4, 3, 0, 0, 2, 0, 9],\n",
    "        [0, 0, 5, 0, 0, 9, 0, 0, 1],\n",
    "        [0, 7, 0, 0, 6, 0, 0, 4, 3],\n",
    "        [0, 0, 6, 0, 0, 2, 0, 8, 7],\n",
    "        [1, 9, 0, 0, 0, 7, 4, 0, 0],\n",
    "        [0, 5, 0, 0, 8, 3, 0, 0, 0],\n",
    "        [6, 0, 0, 0, 0, 0, 1, 0, 5],\n",
    "        [0, 0, 3, 5, 0, 8, 6, 9, 0],\n",
    "        [0, 4, 2, 9, 1, 0, 3, 0, 0]\n",
    "    ],\n",
    "])"
   ]
  },
  {
   "cell_type": "markdown",
   "metadata": {},
   "source": [
    "Now it's time to code! Complete the function `read_sudokus_from_csv`; it receives two parameters, the name of the `csv` file to read and an optional one `read_solutions`. If `read_solutions` is True, you're supposed to read from the second column (solutions) instead of empty puzzles. You can assume the following CSV structure:\n",
    "\n",
    "```\n",
    "quizzes,solutions\n",
    "10084..,183048..\n",
    "30018..,34196..\n",
    "...\n",
    "empty,solved\n",
    "empty,solved\n",
    "```"
   ]
  },
  {
   "cell_type": "code",
   "execution_count": 54,
   "metadata": {},
   "outputs": [],
   "source": [
    "def read_sudokus_from_csv(filename, read_solutions=False):\n",
    "    list_numbers = []\n",
    "    with open(filename,\"r\") as file:\n",
    "        next(file)\n",
    "        for line in file.readlines():\n",
    "            empty,solution = line.replace(\"\\n\",\"\").split(\",\")\n",
    "            if read_solutions:\n",
    "                list_numbers.append(adapt_long_sudoku_line_to_array(solution))\n",
    "            else:\n",
    "                list_numbers.append(adapt_long_sudoku_line_to_array(empty))\n",
    "            \n",
    "    return np.array(list_numbers)"
   ]
  },
  {
   "cell_type": "markdown",
   "metadata": {},
   "source": [
    "For this test we'll use the file `sudoku-micro.csv` that contains only 3 puzzles:"
   ]
  },
  {
   "cell_type": "code",
   "execution_count": 56,
   "metadata": {},
   "outputs": [
    {
     "data": {
      "text/plain": [
       "array([[[0, 0, 4, 3, 0, 0, 2, 0, 9],\n",
       "        [0, 0, 5, 0, 0, 9, 0, 0, 1],\n",
       "        [0, 7, 0, 0, 6, 0, 0, 4, 3],\n",
       "        [0, 0, 6, 0, 0, 2, 0, 8, 7],\n",
       "        [1, 9, 0, 0, 0, 7, 4, 0, 0],\n",
       "        [0, 5, 0, 0, 8, 3, 0, 0, 0],\n",
       "        [6, 0, 0, 0, 0, 0, 1, 0, 5],\n",
       "        [0, 0, 3, 5, 0, 8, 6, 9, 0],\n",
       "        [0, 4, 2, 9, 1, 0, 3, 0, 0]],\n",
       "\n",
       "       [[0, 4, 0, 1, 0, 0, 0, 5, 0],\n",
       "        [1, 0, 7, 0, 0, 3, 9, 6, 0],\n",
       "        [5, 2, 0, 0, 0, 8, 0, 0, 0],\n",
       "        [0, 0, 0, 0, 0, 0, 0, 1, 7],\n",
       "        [0, 0, 0, 9, 0, 6, 8, 0, 0],\n",
       "        [8, 0, 3, 0, 5, 0, 6, 2, 0],\n",
       "        [0, 9, 0, 0, 6, 0, 5, 4, 3],\n",
       "        [6, 0, 0, 0, 8, 0, 7, 0, 0],\n",
       "        [2, 5, 0, 0, 9, 7, 1, 0, 0]],\n",
       "\n",
       "       [[6, 0, 0, 1, 2, 0, 3, 8, 4],\n",
       "        [0, 0, 8, 4, 5, 9, 0, 7, 2],\n",
       "        [0, 0, 0, 0, 0, 6, 0, 0, 5],\n",
       "        [0, 0, 0, 2, 6, 4, 0, 3, 0],\n",
       "        [0, 7, 0, 0, 8, 0, 0, 0, 6],\n",
       "        [9, 4, 0, 0, 0, 3, 0, 0, 0],\n",
       "        [3, 1, 0, 0, 0, 0, 0, 5, 0],\n",
       "        [0, 8, 9, 7, 0, 0, 0, 0, 0],\n",
       "        [5, 0, 2, 0, 0, 0, 1, 9, 0]]])"
      ]
     },
     "execution_count": 56,
     "metadata": {},
     "output_type": "execute_result"
    }
   ],
   "source": [
    "read_sudokus_from_csv('data/sudoku-micro.csv')"
   ]
  },
  {
   "cell_type": "code",
   "execution_count": 52,
   "metadata": {},
   "outputs": [],
   "source": [
    "expected = np.array([[[0, 0, 4, 3, 0, 0, 2, 0, 9],\n",
    "        [0, 0, 5, 0, 0, 9, 0, 0, 1],\n",
    "        [0, 7, 0, 0, 6, 0, 0, 4, 3],\n",
    "        [0, 0, 6, 0, 0, 2, 0, 8, 7],\n",
    "        [1, 9, 0, 0, 0, 7, 4, 0, 0],\n",
    "        [0, 5, 0, 0, 8, 3, 0, 0, 0],\n",
    "        [6, 0, 0, 0, 0, 0, 1, 0, 5],\n",
    "        [0, 0, 3, 5, 0, 8, 6, 9, 0],\n",
    "        [0, 4, 2, 9, 1, 0, 3, 0, 0]],\n",
    "\n",
    "       [[0, 4, 0, 1, 0, 0, 0, 5, 0],\n",
    "        [1, 0, 7, 0, 0, 3, 9, 6, 0],\n",
    "        [5, 2, 0, 0, 0, 8, 0, 0, 0],\n",
    "        [0, 0, 0, 0, 0, 0, 0, 1, 7],\n",
    "        [0, 0, 0, 9, 0, 6, 8, 0, 0],\n",
    "        [8, 0, 3, 0, 5, 0, 6, 2, 0],\n",
    "        [0, 9, 0, 0, 6, 0, 5, 4, 3],\n",
    "        [6, 0, 0, 0, 8, 0, 7, 0, 0],\n",
    "        [2, 5, 0, 0, 9, 7, 1, 0, 0]],\n",
    "\n",
    "       [[6, 0, 0, 1, 2, 0, 3, 8, 4],\n",
    "        [0, 0, 8, 4, 5, 9, 0, 7, 2],\n",
    "        [0, 0, 0, 0, 0, 6, 0, 0, 5],\n",
    "        [0, 0, 0, 2, 6, 4, 0, 3, 0],\n",
    "        [0, 7, 0, 0, 8, 0, 0, 0, 6],\n",
    "        [9, 4, 0, 0, 0, 3, 0, 0, 0],\n",
    "        [3, 1, 0, 0, 0, 0, 0, 5, 0],\n",
    "        [0, 8, 9, 7, 0, 0, 0, 0, 0],\n",
    "        [5, 0, 2, 0, 0, 0, 1, 9, 0]]])"
   ]
  },
  {
   "cell_type": "code",
   "execution_count": 53,
   "metadata": {},
   "outputs": [],
   "source": [
    "assert np.array_equal(read_sudokus_from_csv('data/sudoku-micro.csv'), expected)"
   ]
  },
  {
   "cell_type": "markdown",
   "metadata": {},
   "source": [
    "Reading solutions:"
   ]
  },
  {
   "cell_type": "code",
   "execution_count": 57,
   "metadata": {},
   "outputs": [
    {
     "data": {
      "text/plain": [
       "array([[[8, 6, 4, 3, 7, 1, 2, 5, 9],\n",
       "        [3, 2, 5, 8, 4, 9, 7, 6, 1],\n",
       "        [9, 7, 1, 2, 6, 5, 8, 4, 3],\n",
       "        [4, 3, 6, 1, 9, 2, 5, 8, 7],\n",
       "        [1, 9, 8, 6, 5, 7, 4, 3, 2],\n",
       "        [2, 5, 7, 4, 8, 3, 9, 1, 6],\n",
       "        [6, 8, 9, 7, 3, 4, 1, 2, 5],\n",
       "        [7, 1, 3, 5, 2, 8, 6, 9, 4],\n",
       "        [5, 4, 2, 9, 1, 6, 3, 7, 8]],\n",
       "\n",
       "       [[3, 4, 6, 1, 7, 9, 2, 5, 8],\n",
       "        [1, 8, 7, 5, 2, 3, 9, 6, 4],\n",
       "        [5, 2, 9, 6, 4, 8, 3, 7, 1],\n",
       "        [9, 6, 5, 8, 3, 2, 4, 1, 7],\n",
       "        [4, 7, 2, 9, 1, 6, 8, 3, 5],\n",
       "        [8, 1, 3, 7, 5, 4, 6, 2, 9],\n",
       "        [7, 9, 8, 2, 6, 1, 5, 4, 3],\n",
       "        [6, 3, 1, 4, 8, 5, 7, 9, 2],\n",
       "        [2, 5, 4, 3, 9, 7, 1, 8, 6]],\n",
       "\n",
       "       [[6, 9, 5, 1, 2, 7, 3, 8, 4],\n",
       "        [1, 3, 8, 4, 5, 9, 6, 7, 2],\n",
       "        [7, 2, 4, 8, 3, 6, 9, 1, 5],\n",
       "        [8, 5, 1, 2, 6, 4, 7, 3, 9],\n",
       "        [2, 7, 3, 9, 8, 1, 5, 4, 6],\n",
       "        [9, 4, 6, 5, 7, 3, 8, 2, 1],\n",
       "        [3, 1, 7, 6, 9, 2, 4, 5, 8],\n",
       "        [4, 8, 9, 7, 1, 5, 2, 6, 3],\n",
       "        [5, 6, 2, 3, 4, 8, 1, 9, 7]]])"
      ]
     },
     "execution_count": 57,
     "metadata": {},
     "output_type": "execute_result"
    }
   ],
   "source": [
    "read_sudokus_from_csv('data/sudoku-micro.csv', read_solutions=True)"
   ]
  },
  {
   "cell_type": "code",
   "execution_count": 58,
   "metadata": {},
   "outputs": [],
   "source": [
    "expected = np.array([[[8, 6, 4, 3, 7, 1, 2, 5, 9],\n",
    "        [3, 2, 5, 8, 4, 9, 7, 6, 1],\n",
    "        [9, 7, 1, 2, 6, 5, 8, 4, 3],\n",
    "        [4, 3, 6, 1, 9, 2, 5, 8, 7],\n",
    "        [1, 9, 8, 6, 5, 7, 4, 3, 2],\n",
    "        [2, 5, 7, 4, 8, 3, 9, 1, 6],\n",
    "        [6, 8, 9, 7, 3, 4, 1, 2, 5],\n",
    "        [7, 1, 3, 5, 2, 8, 6, 9, 4],\n",
    "        [5, 4, 2, 9, 1, 6, 3, 7, 8]],\n",
    "\n",
    "       [[3, 4, 6, 1, 7, 9, 2, 5, 8],\n",
    "        [1, 8, 7, 5, 2, 3, 9, 6, 4],\n",
    "        [5, 2, 9, 6, 4, 8, 3, 7, 1],\n",
    "        [9, 6, 5, 8, 3, 2, 4, 1, 7],\n",
    "        [4, 7, 2, 9, 1, 6, 8, 3, 5],\n",
    "        [8, 1, 3, 7, 5, 4, 6, 2, 9],\n",
    "        [7, 9, 8, 2, 6, 1, 5, 4, 3],\n",
    "        [6, 3, 1, 4, 8, 5, 7, 9, 2],\n",
    "        [2, 5, 4, 3, 9, 7, 1, 8, 6]],\n",
    "\n",
    "       [[6, 9, 5, 1, 2, 7, 3, 8, 4],\n",
    "        [1, 3, 8, 4, 5, 9, 6, 7, 2],\n",
    "        [7, 2, 4, 8, 3, 6, 9, 1, 5],\n",
    "        [8, 5, 1, 2, 6, 4, 7, 3, 9],\n",
    "        [2, 7, 3, 9, 8, 1, 5, 4, 6],\n",
    "        [9, 4, 6, 5, 7, 3, 8, 2, 1],\n",
    "        [3, 1, 7, 6, 9, 2, 4, 5, 8],\n",
    "        [4, 8, 9, 7, 1, 5, 2, 6, 3],\n",
    "        [5, 6, 2, 3, 4, 8, 1, 9, 7]]])"
   ]
  },
  {
   "cell_type": "code",
   "execution_count": 59,
   "metadata": {},
   "outputs": [],
   "source": [
    "assert np.array_equal(read_sudokus_from_csv('data/sudoku-micro.csv', read_solutions=True), expected)"
   ]
  },
  {
   "cell_type": "markdown",
   "metadata": {},
   "source": [
    "### Identifying invalid solutions"
   ]
  },
  {
   "cell_type": "markdown",
   "metadata": {},
   "source": [
    "There's another file, `sudoku-invalids.csv` that contains invalid solutions of Sudokus. Your job is to read the solutions, and return only the ones that are invalid."
   ]
  },
  {
   "cell_type": "code",
   "execution_count": 61,
   "metadata": {},
   "outputs": [],
   "source": [
    "def detect_invalid_solutions(filename):\n",
    "    from sudoku import Board,is_valid\n",
    "    puzzles = read_sudokus_from_csv(filename,read_solutions = True)\n",
    "    list_invalids = []\n",
    "    for puzzle in puzzles:\n",
    "        puzzle_obj = Board(puzzle)\n",
    "        if not is_valid(puzzle_obj):\n",
    "            list_invalids.append(puzzle)\n",
    "    return np.array(list_invalids)"
   ]
  },
  {
   "cell_type": "code",
   "execution_count": 67,
   "metadata": {},
   "outputs": [
    {
     "data": {
      "text/plain": [
       "array([[[1, 7, 6, ..., 4, 5, 9],\n",
       "        [5, 3, 8, ..., 6, 7, 2],\n",
       "        [4, 9, 2, ..., 1, 3, 8],\n",
       "        ...,\n",
       "        [8, 1, 3, ..., 7, 4, 5],\n",
       "        [7, 4, 9, ..., 2, 1, 6],\n",
       "        [2, 6, 5, ..., 8, 9, 3]],\n",
       "\n",
       "       [[9, 9, 5, ..., 6, 1, 3],\n",
       "        [8, 4, 3, ..., 9, 5, 7],\n",
       "        [7, 1, 6, ..., 8, 2, 4],\n",
       "        ...,\n",
       "        [6, 3, 4, ..., 2, 9, 1],\n",
       "        [1, 8, 7, ..., 3, 6, 5],\n",
       "        [2, 5, 9, ..., 7, 4, 8]],\n",
       "\n",
       "       [[5, 8, 5, ..., 2, 1, 7],\n",
       "        [3, 2, 1, ..., 9, 5, 6],\n",
       "        [6, 9, 7, ..., 4, 8, 3],\n",
       "        ...,\n",
       "        [4, 5, 8, ..., 7, 3, 2],\n",
       "        [9, 7, 3, ..., 6, 4, 1],\n",
       "        [2, 1, 6, ..., 5, 9, 8]],\n",
       "\n",
       "       ...,\n",
       "\n",
       "       [[9, 1, 9, ..., 7, 2, 6],\n",
       "        [3, 6, 5, ..., 8, 9, 4],\n",
       "        [4, 7, 2, ..., 5, 1, 3],\n",
       "        ...,\n",
       "        [8, 3, 6, ..., 2, 4, 1],\n",
       "        [5, 4, 9, ..., 6, 8, 7],\n",
       "        [7, 2, 1, ..., 3, 5, 9]],\n",
       "\n",
       "       [[5, 4, 2, ..., 7, 9, 8],\n",
       "        [7, 9, 1, ..., 2, 6, 3],\n",
       "        [8, 3, 6, ..., 5, 1, 4],\n",
       "        ...,\n",
       "        [2, 5, 3, ..., 6, 7, 1],\n",
       "        [4, 6, 7, ..., 8, 3, 9],\n",
       "        [9, 1, 8, ..., 4, 5, 2]],\n",
       "\n",
       "       [[9, 6, 9, ..., 2, 4, 5],\n",
       "        [3, 2, 5, ..., 1, 6, 7],\n",
       "        [4, 7, 1, ..., 9, 8, 3],\n",
       "        ...,\n",
       "        [6, 4, 2, ..., 5, 9, 8],\n",
       "        [5, 3, 7, ..., 6, 1, 2],\n",
       "        [1, 9, 8, ..., 7, 3, 4]]])"
      ]
     },
     "execution_count": 67,
     "metadata": {},
     "output_type": "execute_result"
    }
   ],
   "source": [
    "detect_invalid_solutions('data/sudoku-invalids.csv')"
   ]
  },
  {
   "cell_type": "code",
   "execution_count": 69,
   "metadata": {},
   "outputs": [],
   "source": [
    "assert len(detect_invalid_solutions('data/sudoku-invalids.csv')) == 13"
   ]
  },
  {
   "cell_type": "markdown",
   "metadata": {},
   "source": [
    "## Time to test!\n",
    "\n",
    "Now it's time to move your code to `sudoku.py` and then run all the tests; if they're passing, you can move to the next step!"
   ]
  },
  {
   "cell_type": "code",
   "execution_count": 79,
   "metadata": {},
   "outputs": [
    {
     "name": "stdout",
     "output_type": "stream",
     "text": [
      "\u001b[1m============================= test session starts ==============================\u001b[0m\n",
      "platform darwin -- Python 3.7.4, pytest-5.2.2, py-1.8.0, pluggy-0.13.0\n",
      "rootdir: /Users/santiagobasulto/code/rmotr/curriculum/sudoku-tests\n",
      "collected 4 items                                                              \u001b[0m\n",
      "\n",
      "test_part_4.py \u001b[32m.\u001b[0m\u001b[32m.\u001b[0m\u001b[32m.\u001b[0m\u001b[32m.\u001b[0m\u001b[36m                                                      [100%]\u001b[0m\n",
      "\n",
      "\u001b[32m\u001b[1m============================== 4 passed in 0.12s ===============================\u001b[0m\n"
     ]
    }
   ],
   "source": [
    "!py.test test_part_4.py"
   ]
  }
 ],
 "metadata": {
  "kernelspec": {
   "display_name": "Python 3",
   "language": "python",
   "name": "python3"
  },
  "language_info": {
   "codemirror_mode": {
    "name": "ipython",
    "version": 3
   },
   "file_extension": ".py",
   "mimetype": "text/x-python",
   "name": "python",
   "nbconvert_exporter": "python",
   "pygments_lexer": "ipython3",
   "version": "3.7.3"
  }
 },
 "nbformat": 4,
 "nbformat_minor": 4
}
