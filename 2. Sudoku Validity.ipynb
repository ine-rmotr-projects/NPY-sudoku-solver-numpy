{
 "cells": [
  {
   "cell_type": "markdown",
   "metadata": {},
   "source": [
    "# Numpy Project - Part 2: The Validity of a solution\n",
    "\n",
    "We'll reveal the true objective of this project: create an algorithm to solve sudokus! That'll be a ton of fun, but for now, we need to first nail down a few required functions.\n",
    "\n",
    "For this second part, we'll be trying to validate a board; if a proposed solution is valid or not. As you might know, the rules of Sudoku are straightforward: there are numbers 1-9 and they can't be repeated in either rows, columns or 3x3 blocks."
   ]
  },
  {
   "cell_type": "markdown",
   "metadata": {},
   "source": [
    "**IMPORTANT:** This 2nd part will use the `Board` class produced in Part 1. Make sure all the tests are passing."
   ]
  },
  {
   "cell_type": "code",
   "execution_count": 1,
   "metadata": {},
   "outputs": [],
   "source": [
    "import numpy as np\n",
    "import collections\n",
    "\n",
    "from sudoku import Board"
   ]
  },
  {
   "cell_type": "markdown",
   "metadata": {},
   "source": [
    "In this case, we'll use the following two sudoku boards. Our original one from part 1:\n",
    "\n",
    "<img src=\"https://user-images.githubusercontent.com/872296/68136001-49d21400-ff03-11e9-8750-acb846e23046.png\" width=\"600px\">"
   ]
  },
  {
   "cell_type": "code",
   "execution_count": 2,
   "metadata": {},
   "outputs": [],
   "source": [
    "arr_valid = np.array([\n",
    "    [0, 2, 0, 0, 8, 0, 0, 5, 0],\n",
    "    [4, 0, 0, 0, 0, 6, 8, 0, 0],\n",
    "    [6, 0, 0, 4, 5, 3, 9, 7, 0],\n",
    "    [0, 0, 0, 0, 0, 2, 0, 9, 0],\n",
    "    [0, 0, 4, 0, 0, 0, 6, 0, 0],\n",
    "    [0, 1, 0, 3, 0, 0, 0, 0, 0],\n",
    "    [0, 5, 7, 1, 3, 4, 0, 0, 9],\n",
    "    [0, 0, 9, 6, 0, 0, 0, 0, 5],\n",
    "    [0, 3, 0, 0, 2, 0, 0, 8, 0]])"
   ]
  },
  {
   "cell_type": "markdown",
   "metadata": {},
   "source": [
    "and an \"invalid\" one, that we've purposely invalidated to practice these functions. We've introduced 3 numbers that invalidate sudoku rules (marked in red):\n",
    "\n",
    "<img src=\"https://user-images.githubusercontent.com/872296/68214887-05a34a00-ffbd-11e9-9f6f-922b69599428.png\" width=\"600px\" align=\"center\">"
   ]
  },
  {
   "cell_type": "markdown",
   "metadata": {},
   "source": [
    "The number `5` added in the 2nd row, 2nd column invalidates the board because there's another number `5` in the same column. The number `8` invalidates as there's another `8` in the same block, and `4` is repeated in the same row."
   ]
  },
  {
   "cell_type": "code",
   "execution_count": 3,
   "metadata": {},
   "outputs": [],
   "source": [
    "arr_invalid = np.array([\n",
    "    [0, 2, 0, 0, 8, 0, 0, 5, 0],\n",
    "    [4, 5, 0, 0, 8, 6, 8, 0, 0],\n",
    "    [6, 0, 0, 4, 5, 3, 9, 7, 0],\n",
    "    [0, 0, 0, 0, 0, 2, 0, 9, 0],\n",
    "    [0, 0, 4, 0, 0, 0, 6, 4, 0],\n",
    "    [0, 1, 0, 3, 0, 0, 0, 0, 0],\n",
    "    [0, 5, 7, 1, 3, 4, 0, 0, 9],\n",
    "    [0, 0, 9, 6, 0, 0, 0, 0, 5],\n",
    "    [0, 3, 0, 0, 2, 0, 0, 8, 0]])"
   ]
  },
  {
   "cell_type": "markdown",
   "metadata": {},
   "source": [
    "Initializing now the boards objects:"
   ]
  },
  {
   "cell_type": "code",
   "execution_count": 42,
   "metadata": {},
   "outputs": [
    {
     "data": {
      "text/plain": [
       "array([[0, 2, 0, 0, 8, 0, 0, 5, 0],\n",
       "       [4, 0, 0, 0, 0, 6, 8, 0, 0],\n",
       "       [6, 0, 0, 4, 5, 3, 9, 7, 0],\n",
       "       [0, 0, 0, 0, 0, 2, 0, 9, 0],\n",
       "       [0, 0, 4, 0, 0, 0, 6, 0, 0],\n",
       "       [0, 1, 0, 3, 0, 0, 0, 0, 0],\n",
       "       [0, 5, 7, 1, 3, 4, 0, 0, 9],\n",
       "       [0, 0, 9, 6, 0, 0, 0, 0, 5],\n",
       "       [0, 3, 0, 0, 2, 0, 0, 8, 0]])"
      ]
     },
     "execution_count": 42,
     "metadata": {},
     "output_type": "execute_result"
    }
   ],
   "source": [
    "valid = Board(arr_valid)\n",
    "invalid = Board(arr_invalid)\n",
    "valid.arr"
   ]
  },
  {
   "cell_type": "markdown",
   "metadata": {},
   "source": [
    "### Testing if a row, column or block is valid"
   ]
  },
  {
   "cell_type": "markdown",
   "metadata": {},
   "source": [
    "We'll write a function `is_subset_valid` that will receive either a row, column or block, and return if it's valid or not.\n",
    "\n",
    "##### a) Checking rows"
   ]
  },
  {
   "cell_type": "code",
   "execution_count": 41,
   "metadata": {},
   "outputs": [
    {
     "data": {
      "text/plain": [
       "False"
      ]
     },
     "execution_count": 41,
     "metadata": {},
     "output_type": "execute_result"
    }
   ],
   "source": [
    "def is_subset_valid(arr):\n",
    "    arr_new = arr[arr > 0]\n",
    "    #print(arr_new)\n",
    "    if arr_new.size == 0:\n",
    "        return True\n",
    "    for i in range(0,arr_new.size):\n",
    "        for j in range(i+1,arr_new.size):\n",
    "            #print(arr_new[i])\n",
    "            #print(arr_new[j])\n",
    "            if arr_new[i] == arr_new[j]:\n",
    "                return False\n",
    "    return True\n",
    "\n",
    "is_subset_valid(invalid_block)"
   ]
  },
  {
   "cell_type": "markdown",
   "metadata": {},
   "source": [
    "Let's test it with different things:"
   ]
  },
  {
   "cell_type": "code",
   "execution_count": 25,
   "metadata": {},
   "outputs": [
    {
     "data": {
      "text/plain": [
       "array([4, 0, 0, 0, 0, 6, 8, 0, 0])"
      ]
     },
     "execution_count": 25,
     "metadata": {},
     "output_type": "execute_result"
    }
   ],
   "source": [
    "valid_row = valid.get_row(1)\n",
    "valid_row"
   ]
  },
  {
   "cell_type": "code",
   "execution_count": 26,
   "metadata": {},
   "outputs": [],
   "source": [
    "assert is_subset_valid(valid_row) is True"
   ]
  },
  {
   "cell_type": "code",
   "execution_count": 27,
   "metadata": {},
   "outputs": [
    {
     "data": {
      "text/plain": [
       "array([0, 0, 4, 0, 0, 0, 6, 4, 0])"
      ]
     },
     "execution_count": 27,
     "metadata": {},
     "output_type": "execute_result"
    }
   ],
   "source": [
    "invalid_row = invalid.get_row(4)\n",
    "invalid_row  # Number 4 is repeated"
   ]
  },
  {
   "cell_type": "code",
   "execution_count": 28,
   "metadata": {},
   "outputs": [],
   "source": [
    "assert is_subset_valid(invalid_row) is False"
   ]
  },
  {
   "cell_type": "markdown",
   "metadata": {},
   "source": [
    "##### a) Checking columns"
   ]
  },
  {
   "cell_type": "code",
   "execution_count": 30,
   "metadata": {},
   "outputs": [
    {
     "data": {
      "text/plain": [
       "True"
      ]
     },
     "execution_count": 30,
     "metadata": {},
     "output_type": "execute_result"
    }
   ],
   "source": [
    "valid_col = valid.get_column(3)\n",
    "valid_col\n",
    "is_subset_valid(valid_col)"
   ]
  },
  {
   "cell_type": "code",
   "execution_count": 31,
   "metadata": {},
   "outputs": [],
   "source": [
    "assert is_subset_valid(valid_col) is True"
   ]
  },
  {
   "cell_type": "code",
   "execution_count": 33,
   "metadata": {},
   "outputs": [
    {
     "data": {
      "text/plain": [
       "False"
      ]
     },
     "execution_count": 33,
     "metadata": {},
     "output_type": "execute_result"
    }
   ],
   "source": [
    "invalid_col = invalid.get_column(1)\n",
    "invalid_col  # Number 5 is repeated\n",
    "is_subset_valid(invalid_col)"
   ]
  },
  {
   "cell_type": "code",
   "execution_count": 34,
   "metadata": {},
   "outputs": [],
   "source": [
    "assert is_subset_valid(invalid_col) is False"
   ]
  },
  {
   "cell_type": "markdown",
   "metadata": {},
   "source": [
    "##### a) Checking blocks"
   ]
  },
  {
   "cell_type": "code",
   "execution_count": 35,
   "metadata": {},
   "outputs": [
    {
     "data": {
      "text/plain": [
       "array([[0, 8, 0],\n",
       "       [0, 0, 6],\n",
       "       [4, 5, 3]])"
      ]
     },
     "execution_count": 35,
     "metadata": {},
     "output_type": "execute_result"
    }
   ],
   "source": [
    "valid_block = valid.get_block(0, 1)\n",
    "valid_block"
   ]
  },
  {
   "cell_type": "code",
   "execution_count": 38,
   "metadata": {},
   "outputs": [
    {
     "name": "stdout",
     "output_type": "stream",
     "text": [
      "[8 6 4 5 3]\n"
     ]
    }
   ],
   "source": [
    "assert is_subset_valid(valid_block) is True"
   ]
  },
  {
   "cell_type": "code",
   "execution_count": 39,
   "metadata": {},
   "outputs": [
    {
     "data": {
      "text/plain": [
       "array([[0, 8, 0],\n",
       "       [0, 8, 6],\n",
       "       [4, 5, 3]])"
      ]
     },
     "execution_count": 39,
     "metadata": {},
     "output_type": "execute_result"
    }
   ],
   "source": [
    "invalid_block = invalid.get_block(0, 1)\n",
    "invalid_block  # Number 8 is repeated"
   ]
  },
  {
   "cell_type": "code",
   "execution_count": 40,
   "metadata": {},
   "outputs": [
    {
     "name": "stdout",
     "output_type": "stream",
     "text": [
      "[8 8 6 4 5 3]\n"
     ]
    }
   ],
   "source": [
    "assert is_subset_valid(invalid_block) is False"
   ]
  },
  {
   "cell_type": "markdown",
   "metadata": {},
   "source": [
    "### Testing a valid board\n",
    "\n",
    "We can now move forward to our `is_valid` function, that will receive a `Board` and will check if it's valid or not."
   ]
  },
  {
   "cell_type": "code",
   "execution_count": 62,
   "metadata": {},
   "outputs": [
    {
     "data": {
      "text/plain": [
       "False"
      ]
     },
     "execution_count": 62,
     "metadata": {},
     "output_type": "execute_result"
    }
   ],
   "source": [
    "def is_valid(board):\n",
    "    for i in range(0,9):\n",
    "        row = board.get_row(i)\n",
    "        col = board.get_column(i)\n",
    "        if ((is_subset_valid(row) == False) | (is_subset_valid(col) == False)):\n",
    "            return False\n",
    "    for i in range(0,3):\n",
    "        for j in range(0,3):\n",
    "            block = board.get_block(i,j)\n",
    "            if is_subset_valid(block) == False:\n",
    "                return False\n",
    "    return True\n",
    "\n",
    "is_valid(invalid)"
   ]
  },
  {
   "cell_type": "markdown",
   "metadata": {},
   "source": [
    "And now we can test it:"
   ]
  },
  {
   "cell_type": "code",
   "execution_count": 63,
   "metadata": {},
   "outputs": [],
   "source": [
    "assert is_valid(valid) is True"
   ]
  },
  {
   "cell_type": "code",
   "execution_count": 64,
   "metadata": {},
   "outputs": [],
   "source": [
    "assert is_valid(invalid) is False"
   ]
  },
  {
   "cell_type": "markdown",
   "metadata": {},
   "source": [
    "## Time to test!\n",
    "\n",
    "Now it's time to move your code to `sudoku.py` and then run all the tests; if they're passing, you can move to the next step!"
   ]
  },
  {
   "cell_type": "code",
   "execution_count": 65,
   "metadata": {},
   "outputs": [
    {
     "name": "stdout",
     "output_type": "stream",
     "text": [
      "\u001b[1m============================= test session starts ==============================\u001b[0m\n",
      "platform darwin -- Python 3.6.10, pytest-5.2.2, py-1.8.1, pluggy-0.13.1\n",
      "rootdir: /Users/neha/DS Projects/RMOTR Projects/NPY-sudoku-solver-numpy-master\n",
      "collected 8 items                                                              \u001b[0m\u001b[1m\n",
      "\n",
      "test_part_2.py \u001b[32m.\u001b[0m\u001b[32m.\u001b[0m\u001b[32m.\u001b[0m\u001b[32m.\u001b[0m\u001b[32m.\u001b[0m\u001b[32m.\u001b[0m\u001b[32m.\u001b[0m\u001b[32m.\u001b[0m\u001b[36m                                                  [100%]\u001b[0m\n",
      "\n",
      "\u001b[32m\u001b[1m============================== 8 passed in 0.80s ===============================\u001b[0m\n"
     ]
    }
   ],
   "source": [
    "!py.test test_part_2.py"
   ]
  },
  {
   "cell_type": "code",
   "execution_count": null,
   "metadata": {},
   "outputs": [],
   "source": []
  }
 ],
 "metadata": {
  "kernelspec": {
   "display_name": "sudo_env",
   "language": "python",
   "name": "sudo_env"
  },
  "language_info": {
   "codemirror_mode": {
    "name": "ipython",
    "version": 3
   },
   "file_extension": ".py",
   "mimetype": "text/x-python",
   "name": "python",
   "nbconvert_exporter": "python",
   "pygments_lexer": "ipython3",
   "version": "3.6.10"
  }
 },
 "nbformat": 4,
 "nbformat_minor": 4
}
