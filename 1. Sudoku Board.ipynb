{
 "cells": [
  {
   "cell_type": "markdown",
   "metadata": {},
   "source": [
    "# Numpy Project - Part 1: The Sudoku Board\n",
    "\n",
    "This is the first part of our Numpy project. This project is about playing Sudoku with Numpy. Sounds like fun, right? 😃\n",
    "\n",
    "This first part will focus on array creation and the structure of the game: the board."
   ]
  },
  {
   "cell_type": "code",
   "execution_count": null,
   "metadata": {},
   "outputs": [],
   "source": [
    "import numpy as np"
   ]
  },
  {
   "cell_type": "markdown",
   "metadata": {},
   "source": [
    "We'll use the following board as an example:"
   ]
  },
  {
   "cell_type": "markdown",
   "metadata": {},
   "source": [
    "<img src=\"https://user-images.githubusercontent.com/872296/68136001-49d21400-ff03-11e9-8750-acb846e23046.png\" width=\"600px\">"
   ]
  },
  {
   "cell_type": "markdown",
   "metadata": {},
   "source": [
    "We'll create boards from strings, as follows:"
   ]
  },
  {
   "cell_type": "code",
   "execution_count": null,
   "metadata": {},
   "outputs": [],
   "source": [
    "puzzle_str = \"\"\"\n",
    "020080050\n",
    "400006800\n",
    "600453970\n",
    "000002090\n",
    "004000600\n",
    "010300000\n",
    "057134009\n",
    "009600005\n",
    "030020080\n",
    "\"\"\""
   ]
  },
  {
   "cell_type": "markdown",
   "metadata": {},
   "source": [
    "This is already solved, there's nothing to do here, but if you have a second, please try reading and understanding what this line does:"
   ]
  },
  {
   "cell_type": "code",
   "execution_count": null,
   "metadata": {},
   "outputs": [],
   "source": [
    "[list(line.strip()) for line in puzzle_str.split('\\n') if line.strip()]"
   ]
  },
  {
   "cell_type": "markdown",
   "metadata": {},
   "source": [
    "As any meaningful code we create and find useful, we'll try refactoring it into its own reusable function:"
   ]
  },
  {
   "cell_type": "code",
   "execution_count": null,
   "metadata": {},
   "outputs": [],
   "source": [
    "def string_puzzle_to_arr(puzzle):\n",
    "    return np.array([list(line.strip()) for line in puzzle.split('\\n') if line.strip()], dtype=np.int)"
   ]
  },
  {
   "cell_type": "code",
   "execution_count": null,
   "metadata": {},
   "outputs": [],
   "source": [
    "puzzle = string_puzzle_to_arr(puzzle_str)\n",
    "puzzle"
   ]
  },
  {
   "cell_type": "markdown",
   "metadata": {},
   "source": [
    "👆 you can use this `puzzle` variable to practice before moving to the actual assignment:\n",
    "* get rows\n",
    "* get columns\n",
    "* get _blocks_ (3x3 squares)\n"
   ]
  },
  {
   "cell_type": "markdown",
   "metadata": {},
   "source": [
    "<img width=\"452\" src=\"https://user-images.githubusercontent.com/872296/68136806-a3870e00-ff04-11e9-87d4-489485501fa3.png\">"
   ]
  },
  {
   "cell_type": "markdown",
   "metadata": {},
   "source": [
    "#### Getting a row\n",
    "\n",
    "Rows and columns are 0-indexed, as other Python collections. That means that the _third_ row (or column) is actually index `2`. Practice here how to get the row with index `2`, you should get: "
   ]
  },
  {
   "cell_type": "code",
   "execution_count": null,
   "metadata": {},
   "outputs": [],
   "source": [
    "third_row = None # puzzle[???]"
   ]
  },
  {
   "cell_type": "markdown",
   "metadata": {},
   "source": [
    "expected:"
   ]
  },
  {
   "cell_type": "code",
   "execution_count": null,
   "metadata": {},
   "outputs": [],
   "source": [
    "assert np.array_equal(third_row, np.array([6, 0, 0, 4, 5, 3, 9, 7, 0]))"
   ]
  },
  {
   "cell_type": "markdown",
   "metadata": {},
   "source": [
    "#### Getting a column\n",
    "\n",
    "Columns are also 0-indexed. Practice here how to get the _5th_ column, which is index `4`, you should get:"
   ]
  },
  {
   "cell_type": "code",
   "execution_count": null,
   "metadata": {},
   "outputs": [],
   "source": [
    "fifth_col = None # puzzle[???]"
   ]
  },
  {
   "cell_type": "code",
   "execution_count": null,
   "metadata": {},
   "outputs": [],
   "source": [
    "assert np.array_equal(fifth_col, np.array([8, 0, 5, 0, 0, 0, 3, 0, 2]))"
   ]
  },
  {
   "cell_type": "markdown",
   "metadata": {},
   "source": [
    "#### Getting a column\n",
    "\n",
    "Blocks are 3x3 squares with 9 numbers, which by sudoku rules, can't contain repeated numbers, refresher image again:"
   ]
  },
  {
   "cell_type": "markdown",
   "metadata": {},
   "source": [
    "<img width=\"452\" src=\"https://user-images.githubusercontent.com/872296/68136806-a3870e00-ff04-11e9-87d4-489485501fa3.png\">"
   ]
  },
  {
   "cell_type": "markdown",
   "metadata": {},
   "source": [
    "We'll be referencing blocks by 2 indices, the first one vertically (top-bottom), the second one horizontally (left-right).\n",
    "\n",
    "The special characteristic of a block, is that it'll be a matrix, not a vector (2 dimensional, 3x3 matrix)."
   ]
  },
  {
   "cell_type": "markdown",
   "metadata": {},
   "source": [
    "For example, block `(2, 2)` is:"
   ]
  },
  {
   "cell_type": "code",
   "execution_count": null,
   "metadata": {},
   "outputs": [],
   "source": [
    "np.array([\n",
    "    [0, 0, 9],\n",
    "    [0, 0, 5],\n",
    "    [0, 8, 0]\n",
    "])"
   ]
  },
  {
   "cell_type": "markdown",
   "metadata": {},
   "source": [
    "And block `(0, 1)` is:"
   ]
  },
  {
   "cell_type": "code",
   "execution_count": null,
   "metadata": {},
   "outputs": [],
   "source": [
    "np.array([\n",
    "    [0, 8, 0],\n",
    "    [0, 0, 6],\n",
    "    [4, 5, 3]\n",
    "])"
   ]
  },
  {
   "cell_type": "markdown",
   "metadata": {},
   "source": [
    "Time to practice, your task is to extract the block `(1, 2)`:"
   ]
  },
  {
   "cell_type": "code",
   "execution_count": null,
   "metadata": {},
   "outputs": [],
   "source": [
    "block_1_2 = None # puzzle[???]"
   ]
  },
  {
   "cell_type": "code",
   "execution_count": null,
   "metadata": {},
   "outputs": [],
   "source": [
    "expected_block = np.array([\n",
    "    [0, 9, 0],\n",
    "    [6, 0, 0],\n",
    "    [0, 0, 0]\n",
    "])"
   ]
  },
  {
   "cell_type": "code",
   "execution_count": null,
   "metadata": {},
   "outputs": [],
   "source": [
    "assert np.array_equal(block_1_2, expected_block)"
   ]
  },
  {
   "cell_type": "markdown",
   "metadata": {},
   "source": [
    "### Iterating the board\n",
    "\n",
    "We'll implement now 3 methods that will be useful later:\n",
    "\n",
    "* `iter_rows()`\n",
    "* `iter_columns()`\n",
    "* `iter_blocks()`\n",
    "\n",
    "These methods are extremely simple, they'll just return a list of all the rows/columns/blocks to be used later. For example, I'll start providing the code to iterate all the rows in the board:"
   ]
  },
  {
   "cell_type": "code",
   "execution_count": null,
   "metadata": {},
   "outputs": [],
   "source": [
    "for row in puzzle:\n",
    "    print(f\"Row: {row}\")"
   ]
  },
  {
   "cell_type": "markdown",
   "metadata": {},
   "source": [
    "Now it's your turn:\n",
    "\n",
    "##### a) Iterate over the columns:"
   ]
  },
  {
   "cell_type": "code",
   "execution_count": null,
   "metadata": {},
   "outputs": [],
   "source": [
    "for col in puzzle.T:\n",
    "    print(f\"Col: {col}\")"
   ]
  },
  {
   "cell_type": "markdown",
   "metadata": {},
   "source": [
    "##### b) Iterate over the blocks:"
   ]
  },
  {
   "cell_type": "code",
   "execution_count": null,
   "metadata": {},
   "outputs": [],
   "source": [
    "def get_block(arr, pos_1, pos_2):\n",
    "    rows = arr.strides[0]\n",
    "    cols = arr.strides[1]\n",
    "    blocks = np.lib.stride_tricks.as_strided(arr, shape=(3, 3, 3, 3), strides=(rows*3, cols*3, rows, cols))\n",
    "    return blocks[pos_1][pos_2]"
   ]
  },
  {
   "cell_type": "markdown",
   "metadata": {},
   "source": [
    "## Time to test your code\n",
    "\n",
    "It's finally time to test your code. We'll use an OOP approach for our board. Here you'll find the `Board` class with empty methods. We'll provide some tests in the notebook, but your job will be to move your `Board` class to the file `sudoku.py` once it's ready. Let's get started:"
   ]
  },
  {
   "cell_type": "code",
   "execution_count": null,
   "metadata": {},
   "outputs": [],
   "source": [
    "# Fill the methods here\n",
    "\n",
    "class Board:\n",
    "    def __init__(self, puzzle):\n",
    "        if type(puzzle) == str:\n",
    "            self.arr = np.array([list(line.strip()) for line in puzzle.split('\\n') if line.strip()], dtype=np.int)\n",
    "        else:\n",
    "            self.arr = puzzle\n",
    "        \n",
    "        self.blocks = self.turn_to_blocks()\n",
    "        \n",
    "    def get_row(self, row_index):\n",
    "        return self.arr[row_index]\n",
    "\n",
    "    def turn_to_blocks(self):\n",
    "        rows = self.arr.strides[0]\n",
    "        cols = self.arr.strides[1]\n",
    "        blocks = np.lib.stride_tricks.as_strided(self.arr, shape=(3, 3, 3, 3), strides=(rows*3, cols*3, rows, cols))\n",
    "        return blocks\n",
    "    \n",
    "    def get_column(self, col_index):\n",
    "        return self.arr[:,col_index]\n",
    "    \n",
    "    def get_block(self, pos_1, pos_2):\n",
    "        return self.blocks[pos_1][pos_2]\n",
    "    \n",
    "    def iter_rows(self):\n",
    "        rows = np.empty([9, 9],dtype=int)\n",
    "        for idx,row in enumerate(self.arr):\n",
    "            rows[idx] = row\n",
    "        return rows\n",
    "    \n",
    "    def iter_columns(self):\n",
    "        cols = np.empty([9, 9],dtype=int)\n",
    "        for idx,col in enumerate(self.arr.T):\n",
    "            cols[idx] = col\n",
    "        return cols\n",
    "    \n",
    "    def iter_blocks(self):\n",
    "        arr_list = []\n",
    "        for idx,sub_block in enumerate(self.blocks):\n",
    "            for idx2,block in enumerate(sub_block):\n",
    "                arr_list.append(block)\n",
    "                \n",
    "        return np.array(arr_list)\n",
    "                "
   ]
  },
  {
   "cell_type": "markdown",
   "metadata": {},
   "source": [
    "##### 1) Test: creating boards\n",
    "\n",
    "There are two ways of creating `Board`s: 1) from strings 2) from other Numpy arrays. Let's test that they both work:"
   ]
  },
  {
   "cell_type": "code",
   "execution_count": null,
   "metadata": {},
   "outputs": [],
   "source": [
    "puzzle_str = \"\"\"\n",
    "020080050\n",
    "400006800\n",
    "600453970\n",
    "000002090\n",
    "004000600\n",
    "010300000\n",
    "057134009\n",
    "009600005\n",
    "030020080\n",
    "\"\"\""
   ]
  },
  {
   "cell_type": "code",
   "execution_count": null,
   "metadata": {},
   "outputs": [],
   "source": [
    "board = Board(puzzle_str)"
   ]
  },
  {
   "cell_type": "code",
   "execution_count": null,
   "metadata": {},
   "outputs": [],
   "source": [
    "expected = np.array([\n",
    "    [0, 2, 0, 0, 8, 0, 0, 5, 0],\n",
    "    [4, 0, 0, 0, 0, 6, 8, 0, 0],\n",
    "    [6, 0, 0, 4, 5, 3, 9, 7, 0],\n",
    "    [0, 0, 0, 0, 0, 2, 0, 9, 0],\n",
    "    [0, 0, 4, 0, 0, 0, 6, 0, 0],\n",
    "    [0, 1, 0, 3, 0, 0, 0, 0, 0],\n",
    "    [0, 5, 7, 1, 3, 4, 0, 0, 9],\n",
    "    [0, 0, 9, 6, 0, 0, 0, 0, 5],\n",
    "    [0, 3, 0, 0, 2, 0, 0, 8, 0]\n",
    "])"
   ]
  },
  {
   "cell_type": "code",
   "execution_count": null,
   "metadata": {},
   "outputs": [],
   "source": [
    "assert np.array_equal(board.arr, expected)"
   ]
  },
  {
   "cell_type": "code",
   "execution_count": null,
   "metadata": {},
   "outputs": [],
   "source": [
    "board = Board(np.array([\n",
    "    [0, 2, 0, 0, 8, 0, 0, 5, 0],\n",
    "    [4, 0, 0, 0, 0, 6, 8, 0, 0],\n",
    "    [6, 0, 0, 4, 5, 3, 9, 7, 0],\n",
    "    [0, 0, 0, 0, 0, 2, 0, 9, 0],\n",
    "    [0, 0, 4, 0, 0, 0, 6, 0, 0],\n",
    "    [0, 1, 0, 3, 0, 0, 0, 0, 0],\n",
    "    [0, 5, 7, 1, 3, 4, 0, 0, 9],\n",
    "    [0, 0, 9, 6, 0, 0, 0, 0, 5],\n",
    "    [0, 3, 0, 0, 2, 0, 0, 8, 0]\n",
    "]))"
   ]
  },
  {
   "cell_type": "code",
   "execution_count": null,
   "metadata": {},
   "outputs": [],
   "source": [
    "assert np.array_equal(board.arr, expected)"
   ]
  },
  {
   "cell_type": "markdown",
   "metadata": {},
   "source": [
    "##### 2) Test: get rows"
   ]
  },
  {
   "cell_type": "code",
   "execution_count": null,
   "metadata": {},
   "outputs": [],
   "source": [
    "board = Board(puzzle_str)"
   ]
  },
  {
   "cell_type": "code",
   "execution_count": null,
   "metadata": {},
   "outputs": [],
   "source": [
    "assert np.array_equal(board.get_row(2), np.array([6, 0, 0, 4, 5, 3, 9, 7, 0]))"
   ]
  },
  {
   "cell_type": "markdown",
   "metadata": {},
   "source": [
    "##### 3) Test: get columns"
   ]
  },
  {
   "cell_type": "code",
   "execution_count": null,
   "metadata": {},
   "outputs": [],
   "source": [
    "assert np.array_equal(board.get_column(4), np.array([8, 0, 5, 0, 0, 0, 3, 0, 2]))"
   ]
  },
  {
   "cell_type": "markdown",
   "metadata": {},
   "source": [
    "##### 4) Test: get blocks"
   ]
  },
  {
   "cell_type": "code",
   "execution_count": null,
   "metadata": {},
   "outputs": [],
   "source": [
    "assert np.array_equal(board.get_block(1, 2), np.array([\n",
    "    [0, 9, 0],\n",
    "    [6, 0, 0],\n",
    "    [0, 0, 0]   \n",
    "]))"
   ]
  },
  {
   "cell_type": "code",
   "execution_count": null,
   "metadata": {},
   "outputs": [],
   "source": [
    "assert np.array_equal(board.get_block(2, 2), np.array([\n",
    "    [0, 0, 9],\n",
    "    [0, 0, 5],\n",
    "    [0, 8, 0]\n",
    "]))"
   ]
  },
  {
   "cell_type": "markdown",
   "metadata": {},
   "source": [
    "##### 5) Test: iter_rows()"
   ]
  },
  {
   "cell_type": "code",
   "execution_count": null,
   "metadata": {},
   "outputs": [],
   "source": [
    "assert np.array_equal(np.array(board.iter_rows()), np.array([\n",
    " np.array([0, 2, 0, 0, 8, 0, 0, 5, 0]),\n",
    " np.array([4, 0, 0, 0, 0, 6, 8, 0, 0]),\n",
    " np.array([6, 0, 0, 4, 5, 3, 9, 7, 0]),\n",
    " np.array([0, 0, 0, 0, 0, 2, 0, 9, 0]),\n",
    " np.array([0, 0, 4, 0, 0, 0, 6, 0, 0]),\n",
    " np.array([0, 1, 0, 3, 0, 0, 0, 0, 0]),\n",
    " np.array([0, 5, 7, 1, 3, 4, 0, 0, 9]),\n",
    " np.array([0, 0, 9, 6, 0, 0, 0, 0, 5]),\n",
    " np.array([0, 3, 0, 0, 2, 0, 0, 8, 0])]))"
   ]
  },
  {
   "cell_type": "markdown",
   "metadata": {},
   "source": [
    "##### 6) Test: iter_columns()"
   ]
  },
  {
   "cell_type": "code",
   "execution_count": null,
   "metadata": {},
   "outputs": [],
   "source": [
    "assert np.array_equal(np.array(board.iter_columns()), np.array([\n",
    " np.array([0, 4, 6, 0, 0, 0, 0, 0, 0]),\n",
    " np.array([2, 0, 0, 0, 0, 1, 5, 0, 3]),\n",
    " np.array([0, 0, 0, 0, 4, 0, 7, 9, 0]),\n",
    " np.array([0, 0, 4, 0, 0, 3, 1, 6, 0]),\n",
    " np.array([8, 0, 5, 0, 0, 0, 3, 0, 2]),\n",
    " np.array([0, 6, 3, 2, 0, 0, 4, 0, 0]),\n",
    " np.array([0, 8, 9, 0, 6, 0, 0, 0, 0]),\n",
    " np.array([5, 0, 7, 9, 0, 0, 0, 0, 8]),\n",
    " np.array([0, 0, 0, 0, 0, 0, 9, 5, 0])]))"
   ]
  },
  {
   "cell_type": "markdown",
   "metadata": {},
   "source": [
    "## Ready to move on?\n",
    "\n",
    "Now copy your `Board` class into the file `sudoku.py`, we'll be using it in our next steps. Once you're ready, you can try running the tests using:\n"
   ]
  },
  {
   "cell_type": "code",
   "execution_count": null,
   "metadata": {},
   "outputs": [],
   "source": [
    "!py.test test_part_1.py"
   ]
  },
  {
   "cell_type": "markdown",
   "metadata": {},
   "source": [
    "Now head to Part 2! `2. Sudoku Validity.ipynb`."
   ]
  }
 ],
 "metadata": {
  "kernelspec": {
   "display_name": "Python 3",
   "language": "python",
   "name": "python3"
  },
  "language_info": {
   "codemirror_mode": {
    "name": "ipython",
    "version": 3
   },
   "file_extension": ".py",
   "mimetype": "text/x-python",
   "name": "python",
   "nbconvert_exporter": "python",
   "pygments_lexer": "ipython3",
   "version": "3.7.3"
  }
 },
 "nbformat": 4,
 "nbformat_minor": 4
}
